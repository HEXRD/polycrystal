{
 "cells": [
  {
   "cell_type": "markdown",
   "id": "c911e5be-fc9e-475c-bcbc-313391bcf6cb",
   "metadata": {},
   "source": [
    "## Working with Tensors"
   ]
  },
  {
   "cell_type": "markdown",
   "id": "288c69b7-d179-470a-a3aa-4354694f6116",
   "metadata": {},
   "source": [
    "The `polycrystal` package has three systems for representing tensor data (matrices): the `Voigt` system, the `Mandel` system and the `SymmDev` system. Each system represents matrices as vectors with nine components. In all three systems, the first six components represent the symmetric part, and the last three represent the skew part (in the same way).  The `SymmDev` system breaks the symmetric part further into two parts--the spherical part and the symmetric deviatoric part. "
   ]
  },
  {
   "cell_type": "code",
   "execution_count": 4,
   "id": "4d55b320-d9e8-4dc9-a63f-b0a030beba20",
   "metadata": {},
   "outputs": [],
   "source": [
    "import numpy as np\n",
    "\n",
    "from polycrystal.utils.tensor_data.voigt_system import VoigtSystem\n",
    "from polycrystal.utils.tensor_data.mandel_system import MandelSystem\n",
    "from polycrystal.utils.tensor_data.symmdev_system import SymmDevSystem"
   ]
  },
  {
   "cell_type": "markdown",
   "id": "15abe5bf-6b93-4e3f-88f3-bb1ea5da45b8",
   "metadata": {},
   "source": [
    "The interface is similar for all three systems. You can initialize with an array of matrices, or you can build the matrices from their components in the system. For\n",
    "example, in the `Voigt` system, each matrix has 9 components, with the first\n",
    "six for the symmetric part (`symm`) and the last three for the skew part (`skew`).\n",
    "\n",
    "Let's start by generating an array of random matrices."
   ]
  },
  {
   "cell_type": "code",
   "execution_count": 5,
   "id": "26fa595f-41c8-414b-ba03-1197ffb7e8b6",
   "metadata": {},
   "outputs": [
    {
     "data": {
      "text/plain": [
       "array([[[1. , 0. , 0. ],\n",
       "        [0. , 2. , 0. ],\n",
       "        [0. , 0. , 3. ]],\n",
       "\n",
       "       [[2.1, 2.1, 2.1],\n",
       "        [2.1, 2.1, 2.1],\n",
       "        [2.1, 2.1, 2.1]],\n",
       "\n",
       "       [[0. , 1. , 2. ],\n",
       "        [3. , 4. , 5. ],\n",
       "        [6. , 7. , 8. ]]])"
      ]
     },
     "execution_count": 5,
     "metadata": {},
     "output_type": "execute_result"
    }
   ],
   "source": [
    "mats = np.array([\n",
    "    np.diag([1, 2, 3]),     # diagonal matrix\n",
    "    2.1 * np.ones((3, 3)),  # all value 2.1\n",
    "    np.arange(9).reshape((3, 3)) # numbers 0 through 8\n",
    "])\n",
    "mats"
   ]
  },
  {
   "cell_type": "markdown",
   "id": "9f6e5fc8-35a5-4e42-ae58-b96a017ca7dc",
   "metadata": {},
   "source": [
    "Using the `Voigt` system, load the matrices and print the components. The array of components has shape (3, 9). The first matrix is diagonal, so only the first three components are nonzero. The second is symmetric, so the first six are nonzero. The third has nonzero symmetric and skew parts, and all nine components are nonzero."
   ]
  },
  {
   "cell_type": "code",
   "execution_count": 6,
   "id": "b17c6ea1-8f8a-46f3-b16c-94e9d08e1dfe",
   "metadata": {},
   "outputs": [
    {
     "data": {
      "text/plain": [
       "array([[ 1. ,  2. ,  3. ,  0. ,  0. ,  0. ,  0. ,  0. ,  0. ],\n",
       "       [ 2.1,  2.1,  2.1,  2.1,  2.1,  2.1,  0. ,  0. ,  0. ],\n",
       "       [ 0. ,  4. ,  8. ,  6. ,  4. ,  2. ,  1. , -2. ,  1. ]])"
      ]
     },
     "execution_count": 6,
     "metadata": {},
     "output_type": "execute_result"
    }
   ],
   "source": [
    "v_mats = VoigtSystem(mats)\n",
    "v_mats.components"
   ]
  },
  {
   "cell_type": "markdown",
   "id": "ec7624ec-b55f-4249-9407-f069d321592f",
   "metadata": {},
   "source": [
    "The symmetric components have shape (3, 6)."
   ]
  },
  {
   "cell_type": "code",
   "execution_count": 7,
   "id": "c7587785-1d31-40d4-8e78-417b32f8320c",
   "metadata": {},
   "outputs": [
    {
     "data": {
      "text/plain": [
       "array([[1. , 2. , 3. , 0. , 0. , 0. ],\n",
       "       [2.1, 2.1, 2.1, 2.1, 2.1, 2.1],\n",
       "       [0. , 4. , 8. , 6. , 4. , 2. ]])"
      ]
     },
     "execution_count": 7,
     "metadata": {},
     "output_type": "execute_result"
    }
   ],
   "source": [
    "v_mats.symm"
   ]
  },
  {
   "cell_type": "markdown",
   "id": "9ac3b0cc-b2b6-49b1-8276-883e7c121a8a",
   "metadata": {},
   "source": [
    "Finally, the skew components have shape (3, 3)."
   ]
  },
  {
   "cell_type": "code",
   "execution_count": 8,
   "id": "17d9a973-07be-454a-a735-d32888d72860",
   "metadata": {},
   "outputs": [
    {
     "data": {
      "text/plain": [
       "array([[ 0.,  0.,  0.],\n",
       "       [ 0.,  0.,  0.],\n",
       "       [ 1., -2.,  1.]])"
      ]
     },
     "execution_count": 8,
     "metadata": {},
     "output_type": "execute_result"
    }
   ],
   "source": [
    "v_mats.skew"
   ]
  },
  {
   "cell_type": "markdown",
   "id": "55c44ffe-a4d3-410f-8d14-4912729db785",
   "metadata": {},
   "source": [
    "You can also reconstruct the full matrix or the individual parts."
   ]
  },
  {
   "cell_type": "code",
   "execution_count": 9,
   "id": "57aad7c2-5cfe-4a67-aa19-ed2fa3fdad46",
   "metadata": {},
   "outputs": [
    {
     "data": {
      "text/plain": [
       "array([[[1. , 0. , 0. ],\n",
       "        [0. , 2. , 0. ],\n",
       "        [0. , 0. , 3. ]],\n",
       "\n",
       "       [[2.1, 2.1, 2.1],\n",
       "        [2.1, 2.1, 2.1],\n",
       "        [2.1, 2.1, 2.1]],\n",
       "\n",
       "       [[0. , 1. , 2. ],\n",
       "        [3. , 4. , 5. ],\n",
       "        [6. , 7. , 8. ]]])"
      ]
     },
     "execution_count": 9,
     "metadata": {},
     "output_type": "execute_result"
    }
   ],
   "source": [
    "v_mats_2 = VoigtSystem.from_parts(symm=v_mats.symm, skew=v_mats.skew)\n",
    "v_mats_2.matrices"
   ]
  },
  {
   "cell_type": "markdown",
   "id": "c09a139b-f994-445e-b3da-9ed0529df533",
   "metadata": {},
   "source": [
    "We can build the specific parts. Here we build the symmetric parts, as matrices."
   ]
  },
  {
   "cell_type": "code",
   "execution_count": 10,
   "id": "b2a96725-9c1c-4743-b1e9-eb0aba96139c",
   "metadata": {},
   "outputs": [
    {
     "data": {
      "text/plain": [
       "array([[[1. , 0. , 0. ],\n",
       "        [0. , 2. , 0. ],\n",
       "        [0. , 0. , 3. ]],\n",
       "\n",
       "       [[2.1, 2.1, 2.1],\n",
       "        [2.1, 2.1, 2.1],\n",
       "        [2.1, 2.1, 2.1]],\n",
       "\n",
       "       [[0. , 2. , 4. ],\n",
       "        [2. , 4. , 6. ],\n",
       "        [4. , 6. , 8. ]]])"
      ]
     },
     "execution_count": 10,
     "metadata": {},
     "output_type": "execute_result"
    }
   ],
   "source": [
    "# To build the symmetric parts:\n",
    "v_mats_symm = VoigtSystem.from_parts(symm=v_mats.symm)\n",
    "v_mats_symm.matrices"
   ]
  },
  {
   "cell_type": "markdown",
   "id": "090c632c-080a-4af8-af04-2dcfc42f0ca1",
   "metadata": {},
   "source": [
    "And now we build the skew parts, as matrices."
   ]
  },
  {
   "cell_type": "code",
   "execution_count": 11,
   "id": "b72a97e8-743f-495f-9737-ebe8dfc3eda5",
   "metadata": {},
   "outputs": [
    {
     "data": {
      "text/plain": [
       "array([[[ 0.,  0.,  0.],\n",
       "        [ 0.,  0.,  0.],\n",
       "        [ 0.,  0.,  0.]],\n",
       "\n",
       "       [[ 0.,  0.,  0.],\n",
       "        [ 0.,  0.,  0.],\n",
       "        [ 0.,  0.,  0.]],\n",
       "\n",
       "       [[ 0., -1., -2.],\n",
       "        [ 1.,  0., -1.],\n",
       "        [ 2.,  1.,  0.]]])"
      ]
     },
     "execution_count": 11,
     "metadata": {},
     "output_type": "execute_result"
    }
   ],
   "source": [
    "# To build the skew parts:\n",
    "v_mats_skew = VoigtSystem.from_parts(skew=v_mats.skew)\n",
    "v_mats_skew.matrices"
   ]
  },
  {
   "cell_type": "markdown",
   "id": "29774c61-bedf-49db-a847-d83e798cadca",
   "metadata": {},
   "source": [
    "Now let's switch to another system. We will use the `Mandel` system. Simply initialize with the matrices. Then you can take components as in the `Voigt` system. "
   ]
  },
  {
   "cell_type": "code",
   "execution_count": 12,
   "id": "9f27060e-a079-42af-bf6d-039ff3b458e0",
   "metadata": {},
   "outputs": [
    {
     "data": {
      "text/plain": [
       "array([[ 1.    ,  2.    ,  3.    ,  0.    ,  0.    ,  0.    ,  0.    ,\n",
       "         0.    ,  0.    ],\n",
       "       [ 2.1   ,  2.1   ,  2.1   ,  2.9698,  2.9698,  2.9698,  0.    ,\n",
       "         0.    ,  0.    ],\n",
       "       [ 0.    ,  4.    ,  8.    ,  8.4853,  5.6569,  2.8284,  1.4142,\n",
       "        -2.8284,  1.4142]])"
      ]
     },
     "execution_count": 12,
     "metadata": {},
     "output_type": "execute_result"
    }
   ],
   "source": [
    "# To switch to another system.\n",
    "m_mats = MandelSystem(v_mats.matrices)\n",
    "\n",
    "# Now, you can see the components in the Mandel system.\n",
    "m_mats.components"
   ]
  },
  {
   "cell_type": "markdown",
   "id": "d2368524-50ea-4162-ae84-44547813b720",
   "metadata": {},
   "source": [
    "We can do the same thing with `SymmDev` system.  "
   ]
  },
  {
   "cell_type": "code",
   "execution_count": 15,
   "id": "0714d496-b096-43dd-b4f1-a358be303e4d",
   "metadata": {},
   "outputs": [
    {
     "data": {
      "text/plain": [
       "array([[ 3.4641, -0.7071, -1.4142,  0.    ,  0.    ,  0.    ,  0.    ,\n",
       "         0.    ,  0.    ],\n",
       "       [ 3.6373,  0.    ,  0.    ,  2.9698,  2.9698,  2.9698,  0.    ,\n",
       "         0.    ,  0.    ],\n",
       "       [ 6.9282, -2.8284, -5.6569,  8.4853,  5.6569,  2.8284,  1.4142,\n",
       "        -2.8284,  1.4142]])"
      ]
     },
     "execution_count": 15,
     "metadata": {},
     "output_type": "execute_result"
    }
   ],
   "source": [
    "s_mats = SymmDevSystem(v_mats.matrices)\n",
    "s_mats.components"
   ]
  },
  {
   "cell_type": "markdown",
   "id": "95a34ff1-8ee3-4c7c-8c05-b8fd91791d4a",
   "metadata": {},
   "source": [
    "The `SymmDev` system has spherical, symmetric-deviatoric, and skew parts.  You can see the components like this:"
   ]
  },
  {
   "cell_type": "code",
   "execution_count": 16,
   "id": "66478869-08ae-4af0-8926-4a1f3f68b98c",
   "metadata": {},
   "outputs": [
    {
     "name": "stdout",
     "output_type": "stream",
     "text": [
      "sph components:\n",
      " [3.4641 3.6373 6.9282] \n",
      "\n",
      "symmdev components:\n",
      " [[-0.7071 -1.4142  0.      0.      0.    ]\n",
      " [ 0.      0.      2.9698  2.9698  2.9698]\n",
      " [-2.8284 -5.6569  8.4853  5.6569  2.8284]] \n",
      "\n",
      "skew components:\n",
      " [[ 0.      0.      0.    ]\n",
      " [ 0.      0.      0.    ]\n",
      " [ 1.4142 -2.8284  1.4142]]\n"
     ]
    }
   ],
   "source": [
    "print(\n",
    "    \"sph components:\\n\", s_mats.sph,\n",
    "    \"\\n\\nsymmdev components:\\n\", s_mats.symmdev,\n",
    "    \"\\n\\nskew components:\\n\", s_mats.skew\n",
    ")"
   ]
  }
 ],
 "metadata": {
  "kernelspec": {
   "display_name": "Python 3 (ipykernel)",
   "language": "python",
   "name": "python3"
  },
  "language_info": {
   "codemirror_mode": {
    "name": "ipython",
    "version": 3
   },
   "file_extension": ".py",
   "mimetype": "text/x-python",
   "name": "python",
   "nbconvert_exporter": "python",
   "pygments_lexer": "ipython3",
   "version": "3.11.13"
  }
 },
 "nbformat": 4,
 "nbformat_minor": 5
}
